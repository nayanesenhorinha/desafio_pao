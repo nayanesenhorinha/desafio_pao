{
 "cells": [
  {
   "cell_type": "code",
   "execution_count": 1,
   "id": "55961379",
   "metadata": {
    "_cell_guid": "b1076dfc-b9ad-4769-8c92-a6c4dae69d19",
    "_uuid": "8f2839f25d086af736a60e9eeb907d3b93b6e0e5",
    "execution": {
     "iopub.execute_input": "2024-06-20T23:42:44.787989Z",
     "iopub.status.busy": "2024-06-20T23:42:44.787020Z",
     "iopub.status.idle": "2024-06-20T23:42:45.835518Z",
     "shell.execute_reply": "2024-06-20T23:42:45.834160Z"
    },
    "papermill": {
     "duration": 1.057641,
     "end_time": "2024-06-20T23:42:45.838524",
     "exception": false,
     "start_time": "2024-06-20T23:42:44.780883",
     "status": "completed"
    },
    "tags": []
   },
   "outputs": [
    {
     "name": "stdout",
     "output_type": "stream",
     "text": [
      "/kaggle/input/dados-lanchonete-pao/DataBase po.xlsx\n"
     ]
    }
   ],
   "source": [
    "import numpy as np \n",
    "import pandas as pd \n",
    "\n",
    "import os\n",
    "for dirname, _, filenames in os.walk('/kaggle/input'):\n",
    "    for filename in filenames:\n",
    "        print(os.path.join(dirname, filename))"
   ]
  },
  {
   "cell_type": "code",
   "execution_count": 2,
   "id": "c822f676",
   "metadata": {
    "execution": {
     "iopub.execute_input": "2024-06-20T23:42:45.847680Z",
     "iopub.status.busy": "2024-06-20T23:42:45.847117Z",
     "iopub.status.idle": "2024-06-20T23:42:46.277210Z",
     "shell.execute_reply": "2024-06-20T23:42:46.275868Z"
    },
    "papermill": {
     "duration": 0.437796,
     "end_time": "2024-06-20T23:42:46.280061",
     "exception": false,
     "start_time": "2024-06-20T23:42:45.842265",
     "status": "completed"
    },
    "tags": []
   },
   "outputs": [],
   "source": [
    "dados_pao = pd.read_excel(\"/kaggle/input/dados-lanchonete-pao/DataBase po.xlsx\")"
   ]
  },
  {
   "cell_type": "code",
   "execution_count": 3,
   "id": "03c9f9b1",
   "metadata": {
    "execution": {
     "iopub.execute_input": "2024-06-20T23:42:46.289064Z",
     "iopub.status.busy": "2024-06-20T23:42:46.288507Z",
     "iopub.status.idle": "2024-06-20T23:42:46.295100Z",
     "shell.execute_reply": "2024-06-20T23:42:46.293926Z"
    },
    "papermill": {
     "duration": 0.014058,
     "end_time": "2024-06-20T23:42:46.297676",
     "exception": false,
     "start_time": "2024-06-20T23:42:46.283618",
     "status": "completed"
    },
    "tags": []
   },
   "outputs": [],
   "source": [
    "dados_pao.columns = [col.strip().lower().replace(' ', '_') for col in dados_pao.columns]"
   ]
  },
  {
   "cell_type": "code",
   "execution_count": 4,
   "id": "0598cced",
   "metadata": {
    "execution": {
     "iopub.execute_input": "2024-06-20T23:42:46.306496Z",
     "iopub.status.busy": "2024-06-20T23:42:46.306087Z",
     "iopub.status.idle": "2024-06-20T23:42:46.327139Z",
     "shell.execute_reply": "2024-06-20T23:42:46.325697Z"
    },
    "papermill": {
     "duration": 0.028666,
     "end_time": "2024-06-20T23:42:46.329927",
     "exception": false,
     "start_time": "2024-06-20T23:42:46.301261",
     "status": "completed"
    },
    "tags": []
   },
   "outputs": [],
   "source": [
    "dados_pao['pão_comprados'] = dados_pao['pão_comprados'].fillna(dados_pao['pão_comprados'].median())\n",
    "dados_pao['frequencia'] = dados_pao['frequencia'].fillna('Semanal')\n",
    "dados_pao['trabalha'] = dados_pao['trabalha'].fillna('Não')\n",
    "dados_pao['faltas'] = dados_pao['faltas'].fillna(0)\n",
    "dados_pao['numero_de_amigos'] = dados_pao['numero_de_amigos'].fillna(dados_pao['numero_de_amigos'].mean())"
   ]
  },
  {
   "cell_type": "code",
   "execution_count": 5,
   "id": "4dc72f06",
   "metadata": {
    "execution": {
     "iopub.execute_input": "2024-06-20T23:42:46.338975Z",
     "iopub.status.busy": "2024-06-20T23:42:46.338553Z",
     "iopub.status.idle": "2024-06-20T23:42:46.348659Z",
     "shell.execute_reply": "2024-06-20T23:42:46.347260Z"
    },
    "papermill": {
     "duration": 0.017887,
     "end_time": "2024-06-20T23:42:46.351394",
     "exception": false,
     "start_time": "2024-06-20T23:42:46.333507",
     "status": "completed"
    },
    "tags": []
   },
   "outputs": [],
   "source": [
    "def is_numeric(value):\n",
    "    try:\n",
    "        float(value)\n",
    "        return True\n",
    "    except ValueError:\n",
    "        return False\n",
    "\n",
    "def formatar_interacao(x):\n",
    "    if not is_numeric(x):\n",
    "        if x == \"Baixa\":\n",
    "            return 0.25\n",
    "        elif x == \"Média\":\n",
    "            return 0.5\n",
    "        elif \"Alta\":\n",
    "            return 1\n",
    "\n",
    "    if x <= 4:\n",
    "        return 0.25\n",
    "    elif x >= 5 and x <= 8:\n",
    "        return 0.5\n",
    "    elif x >= 9 and x <= 12:\n",
    "        return 1\n",
    "    elif x == 0:\n",
    "        return 0\n",
    "\n",
    "dados_pao[\"interação_social\"] = dados_pao[\"interação_social\"].apply(formatar_interacao)"
   ]
  },
  {
   "cell_type": "code",
   "execution_count": 6,
   "id": "25c0a706",
   "metadata": {
    "execution": {
     "iopub.execute_input": "2024-06-20T23:42:46.360398Z",
     "iopub.status.busy": "2024-06-20T23:42:46.359983Z",
     "iopub.status.idle": "2024-06-20T23:42:46.416474Z",
     "shell.execute_reply": "2024-06-20T23:42:46.415175Z"
    },
    "papermill": {
     "duration": 0.064001,
     "end_time": "2024-06-20T23:42:46.419026",
     "exception": false,
     "start_time": "2024-06-20T23:42:46.355025",
     "status": "completed"
    },
    "tags": []
   },
   "outputs": [
    {
     "data": {
      "text/html": [
       "<div>\n",
       "<style scoped>\n",
       "    .dataframe tbody tr th:only-of-type {\n",
       "        vertical-align: middle;\n",
       "    }\n",
       "\n",
       "    .dataframe tbody tr th {\n",
       "        vertical-align: top;\n",
       "    }\n",
       "\n",
       "    .dataframe thead th {\n",
       "        text-align: right;\n",
       "    }\n",
       "</style>\n",
       "<table border=\"1\" class=\"dataframe\">\n",
       "  <thead>\n",
       "    <tr style=\"text-align: right;\">\n",
       "      <th></th>\n",
       "      <th>Nome pessoa</th>\n",
       "      <th>Probabilidade de compra (%)</th>\n",
       "      <th>Valor mínimo de compra</th>\n",
       "      <th>Valor máximo de compra</th>\n",
       "    </tr>\n",
       "  </thead>\n",
       "  <tbody>\n",
       "    <tr>\n",
       "      <th>35</th>\n",
       "      <td>Renata Ribeiro</td>\n",
       "      <td>95.0</td>\n",
       "      <td>1.43</td>\n",
       "      <td>4.86</td>\n",
       "    </tr>\n",
       "    <tr>\n",
       "      <th>30</th>\n",
       "      <td>Rafael Rocha</td>\n",
       "      <td>95.0</td>\n",
       "      <td>1.43</td>\n",
       "      <td>4.86</td>\n",
       "    </tr>\n",
       "    <tr>\n",
       "      <th>12</th>\n",
       "      <td>Thiago Ramos</td>\n",
       "      <td>95.0</td>\n",
       "      <td>1.43</td>\n",
       "      <td>4.86</td>\n",
       "    </tr>\n",
       "  </tbody>\n",
       "</table>\n",
       "</div>"
      ],
      "text/plain": [
       "       Nome pessoa  Probabilidade de compra (%)  Valor mínimo de compra  \\\n",
       "35  Renata Ribeiro                         95.0                    1.43   \n",
       "30    Rafael Rocha                         95.0                    1.43   \n",
       "12    Thiago Ramos                         95.0                    1.43   \n",
       "\n",
       "    Valor máximo de compra  \n",
       "35                    4.86  \n",
       "30                    4.86  \n",
       "12                    4.86  "
      ]
     },
     "execution_count": 6,
     "metadata": {},
     "output_type": "execute_result"
    }
   ],
   "source": [
    "def classificar_cliente(linha):\n",
    "    pontos = 0\n",
    "    if linha['frequencia'] == 'Semanal':\n",
    "        pontos += 1\n",
    "    elif linha['frequencia'] == 'Quinzenal':\n",
    "        pontos += 0.5\n",
    "    elif linha['frequencia'] == 'Mensal':\n",
    "        pontos += 0.25\n",
    "    \n",
    "    if linha['pão_comprados'] > 5:\n",
    "        pontos += 1\n",
    "    elif 3 <= linha['pão_comprados'] <= 5:\n",
    "        pontos += 0.5\n",
    "    elif linha['pão_comprados'] < 3:\n",
    "        pontos += 0.25\n",
    "    \n",
    "    if linha['valor_da_ultima_compra'] > 20:\n",
    "        pontos += 1\n",
    "    elif 10 <= linha['valor_da_ultima_compra'] <= 20:\n",
    "        pontos += 0.5\n",
    "    elif linha['valor_da_ultima_compra'] < 10:\n",
    "        pontos += 0.25\n",
    "    \n",
    "    if linha['trabalha'] == 'Sim':\n",
    "        pontos += 1\n",
    "    elif linha['trabalha'] == 'Não':\n",
    "        pontos += 0\n",
    "    \n",
    "    pontos += linha['interação_social']\n",
    "    \n",
    "    if linha['faltas'] == 0:\n",
    "        pontos += 1\n",
    "    elif 1 <= linha['faltas'] <= 2:\n",
    "        pontos += 0.5\n",
    "    elif linha['faltas'] > 2:\n",
    "        pontos -= 0.25\n",
    "    \n",
    "    return pontos\n",
    "\n",
    "dados_pao['pontos'] = dados_pao.apply(classificar_cliente, axis=1)\n",
    "\n",
    "top_clientes = dados_pao[['pessoa', 'pontos']].sort_values(by='pontos', ascending=False).head(3)\n",
    "\n",
    "top_clientes['valor_minimo_dia'] = round(dados_pao['valor_gasto_por_semana'].min() / 7,2)  \n",
    "top_clientes['valor_maximo_dia'] = round(dados_pao['valor_gasto_por_semana'].max() / 7,2)\n",
    "\n",
    "top_clientes[\"probabilidade\"] = (dados_pao[\"pontos\"] / 5) * 100\n",
    "\n",
    "resultado = top_clientes[[\"pessoa\",\"probabilidade\",\"valor_minimo_dia\",\"valor_maximo_dia\"]]\n",
    "resultado.columns = [\"Nome pessoa\",\"Probabilidade de compra (%)\",\"Valor mínimo de compra\",\"Valor máximo de compra\"]\n",
    "\n",
    "resultado.to_csv(\"probabilidade_pao.csv\")\n",
    "resultado"
   ]
  }
 ],
 "metadata": {
  "kaggle": {
   "accelerator": "none",
   "dataSources": [
    {
     "datasetId": 5219122,
     "sourceId": 8701963,
     "sourceType": "datasetVersion"
    }
   ],
   "dockerImageVersionId": 30732,
   "isGpuEnabled": false,
   "isInternetEnabled": false,
   "language": "python",
   "sourceType": "notebook"
  },
  "kernelspec": {
   "display_name": "Python 3",
   "language": "python",
   "name": "python3"
  },
  "language_info": {
   "codemirror_mode": {
    "name": "ipython",
    "version": 3
   },
   "file_extension": ".py",
   "mimetype": "text/x-python",
   "name": "python",
   "nbconvert_exporter": "python",
   "pygments_lexer": "ipython3",
   "version": "3.10.13"
  },
  "papermill": {
   "default_parameters": {},
   "duration": 5.300912,
   "end_time": "2024-06-20T23:42:46.943972",
   "environment_variables": {},
   "exception": null,
   "input_path": "__notebook__.ipynb",
   "output_path": "__notebook__.ipynb",
   "parameters": {},
   "start_time": "2024-06-20T23:42:41.643060",
   "version": "2.5.0"
  }
 },
 "nbformat": 4,
 "nbformat_minor": 5
}
