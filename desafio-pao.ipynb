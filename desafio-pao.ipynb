{
 "cells": [
  {
   "cell_type": "code",
   "execution_count": 1,
   "id": "06839660",
   "metadata": {
    "_cell_guid": "b1076dfc-b9ad-4769-8c92-a6c4dae69d19",
    "_uuid": "8f2839f25d086af736a60e9eeb907d3b93b6e0e5",
    "execution": {
     "iopub.execute_input": "2024-06-20T16:21:12.964623Z",
     "iopub.status.busy": "2024-06-20T16:21:12.963745Z",
     "iopub.status.idle": "2024-06-20T16:21:13.979381Z",
     "shell.execute_reply": "2024-06-20T16:21:13.978070Z"
    },
    "papermill": {
     "duration": 1.024806,
     "end_time": "2024-06-20T16:21:13.983189",
     "exception": false,
     "start_time": "2024-06-20T16:21:12.958383",
     "status": "completed"
    },
    "tags": []
   },
   "outputs": [
    {
     "name": "stdout",
     "output_type": "stream",
     "text": [
      "/kaggle/input/dados-lanchonete-pao/DataBase po.xlsx\n"
     ]
    }
   ],
   "source": [
    "import numpy as np \n",
    "import pandas as pd \n",
    "\n",
    "import os\n",
    "for dirname, _, filenames in os.walk('/kaggle/input'):\n",
    "    for filename in filenames:\n",
    "        print(os.path.join(dirname, filename))"
   ]
  },
  {
   "cell_type": "code",
   "execution_count": 2,
   "id": "6a980ffc",
   "metadata": {
    "execution": {
     "iopub.execute_input": "2024-06-20T16:21:13.993766Z",
     "iopub.status.busy": "2024-06-20T16:21:13.993273Z",
     "iopub.status.idle": "2024-06-20T16:21:14.395272Z",
     "shell.execute_reply": "2024-06-20T16:21:14.393958Z"
    },
    "papermill": {
     "duration": 0.409579,
     "end_time": "2024-06-20T16:21:14.398068",
     "exception": false,
     "start_time": "2024-06-20T16:21:13.988489",
     "status": "completed"
    },
    "tags": []
   },
   "outputs": [],
   "source": [
    "dados_pao = pd.read_excel(\"/kaggle/input/dados-lanchonete-pao/DataBase po.xlsx\")"
   ]
  },
  {
   "cell_type": "code",
   "execution_count": 3,
   "id": "4c7255ce",
   "metadata": {
    "execution": {
     "iopub.execute_input": "2024-06-20T16:21:14.407361Z",
     "iopub.status.busy": "2024-06-20T16:21:14.406806Z",
     "iopub.status.idle": "2024-06-20T16:21:14.413057Z",
     "shell.execute_reply": "2024-06-20T16:21:14.411979Z"
    },
    "papermill": {
     "duration": 0.013833,
     "end_time": "2024-06-20T16:21:14.415486",
     "exception": false,
     "start_time": "2024-06-20T16:21:14.401653",
     "status": "completed"
    },
    "tags": []
   },
   "outputs": [],
   "source": [
    "dados_pao_copia = dados_pao.copy()\n",
    "dados_pao_copia.columns = [col.strip().lower().replace(' ', '_') for col in dados_pao_copia.columns]"
   ]
  },
  {
   "cell_type": "code",
   "execution_count": 4,
   "id": "5c1b3537",
   "metadata": {
    "execution": {
     "iopub.execute_input": "2024-06-20T16:21:14.424893Z",
     "iopub.status.busy": "2024-06-20T16:21:14.424441Z",
     "iopub.status.idle": "2024-06-20T16:21:14.446867Z",
     "shell.execute_reply": "2024-06-20T16:21:14.445528Z"
    },
    "papermill": {
     "duration": 0.03083,
     "end_time": "2024-06-20T16:21:14.449454",
     "exception": false,
     "start_time": "2024-06-20T16:21:14.418624",
     "status": "completed"
    },
    "tags": []
   },
   "outputs": [],
   "source": [
    "dados_pao_copia['sexo'] = dados_pao_copia['sexo'].replace({'masculino': 'M', 'feminino': 'F'})\n",
    "dados_pao_copia['idade'] = dados_pao_copia['idade'].fillna(dados_pao_copia['idade'].median())\n",
    "dados_pao_copia['pão_comprados'] = dados_pao_copia['pão_comprados'].fillna(0)\n",
    "dados_pao_copia['valor_da_ultima_compra'] = dados_pao_copia['valor_da_ultima_compra'].fillna(0)\n",
    "\n",
    "dados_pao_copia['frequencia'] = dados_pao_copia['frequencia'].fillna('Semanal')\n",
    "dados_pao_copia['trabalha'] = dados_pao_copia['trabalha'].fillna('Não')\n",
    "dados_pao_copia['faltas'] = dados_pao_copia['faltas'].fillna(0)\n",
    "\n",
    "# estado civil, número de amigos"
   ]
  },
  {
   "cell_type": "code",
   "execution_count": 5,
   "id": "80ab1045",
   "metadata": {
    "execution": {
     "iopub.execute_input": "2024-06-20T16:21:14.458085Z",
     "iopub.status.busy": "2024-06-20T16:21:14.457601Z",
     "iopub.status.idle": "2024-06-20T16:21:14.464111Z",
     "shell.execute_reply": "2024-06-20T16:21:14.462463Z"
    },
    "papermill": {
     "duration": 0.01488,
     "end_time": "2024-06-20T16:21:14.467354",
     "exception": false,
     "start_time": "2024-06-20T16:21:14.452474",
     "status": "completed"
    },
    "tags": []
   },
   "outputs": [],
   "source": [
    "# Converter valores textuais para NaN e manter apenas valores numéricos\n",
    "#    dados_pao['interação_social'] = pd.to_numeric(dados_pao_copia['interação_social'], errors='coerce')\n",
    "#    median = dados_pao['interação_social'].mean()\n",
    "#    maximo = dados_pao['interação_social'].max()\n",
    "    \n",
    "#    alta = maximo - median\n",
    "\n",
    "#def categorizar_interacao(valor):\n",
    "#    if valor == \"Alta\":\n",
    " #       return alta\n",
    "#    elif valor == \"Média\":\n",
    " #       return \n",
    "#    elif valor >= limite_media:\n",
    " #       return 'Média'\n",
    "#    else:\n",
    "#        return 'Baixa'\n",
    "\n",
    "#dados_pao_copia['interação_social_categorizada'] = dados_pao_copia['interação_social'].apply(categorizar_interacao)"
   ]
  },
  {
   "cell_type": "code",
   "execution_count": null,
   "id": "e9efde1d",
   "metadata": {
    "papermill": {
     "duration": 0.002618,
     "end_time": "2024-06-20T16:21:14.473478",
     "exception": false,
     "start_time": "2024-06-20T16:21:14.470860",
     "status": "completed"
    },
    "tags": []
   },
   "outputs": [],
   "source": []
  },
  {
   "cell_type": "code",
   "execution_count": 6,
   "id": "1a43003a",
   "metadata": {
    "execution": {
     "iopub.execute_input": "2024-06-20T16:21:14.481138Z",
     "iopub.status.busy": "2024-06-20T16:21:14.480734Z",
     "iopub.status.idle": "2024-06-20T16:21:14.538191Z",
     "shell.execute_reply": "2024-06-20T16:21:14.537021Z"
    },
    "papermill": {
     "duration": 0.064846,
     "end_time": "2024-06-20T16:21:14.541186",
     "exception": false,
     "start_time": "2024-06-20T16:21:14.476340",
     "status": "completed"
    },
    "tags": []
   },
   "outputs": [
    {
     "data": {
      "text/html": [
       "<div>\n",
       "<style scoped>\n",
       "    .dataframe tbody tr th:only-of-type {\n",
       "        vertical-align: middle;\n",
       "    }\n",
       "\n",
       "    .dataframe tbody tr th {\n",
       "        vertical-align: top;\n",
       "    }\n",
       "\n",
       "    .dataframe thead th {\n",
       "        text-align: right;\n",
       "    }\n",
       "</style>\n",
       "<table border=\"1\" class=\"dataframe\">\n",
       "  <thead>\n",
       "    <tr style=\"text-align: right;\">\n",
       "      <th></th>\n",
       "      <th>pessoa</th>\n",
       "      <th>pontos</th>\n",
       "      <th>valor_minimo_dia</th>\n",
       "      <th>valor_maximo_dia</th>\n",
       "    </tr>\n",
       "  </thead>\n",
       "  <tbody>\n",
       "    <tr>\n",
       "      <th>12</th>\n",
       "      <td>Thiago Ramos</td>\n",
       "      <td>3.75</td>\n",
       "      <td>0.5</td>\n",
       "      <td>1.5</td>\n",
       "    </tr>\n",
       "    <tr>\n",
       "      <th>35</th>\n",
       "      <td>Renata Ribeiro</td>\n",
       "      <td>3.75</td>\n",
       "      <td>0.1</td>\n",
       "      <td>0.3</td>\n",
       "    </tr>\n",
       "    <tr>\n",
       "      <th>32</th>\n",
       "      <td>Leonardo Ramos</td>\n",
       "      <td>3.75</td>\n",
       "      <td>0.6</td>\n",
       "      <td>1.8</td>\n",
       "    </tr>\n",
       "  </tbody>\n",
       "</table>\n",
       "</div>"
      ],
      "text/plain": [
       "            pessoa  pontos  valor_minimo_dia  valor_maximo_dia\n",
       "12    Thiago Ramos    3.75               0.5               1.5\n",
       "35  Renata Ribeiro    3.75               0.1               0.3\n",
       "32  Leonardo Ramos    3.75               0.6               1.8"
      ]
     },
     "execution_count": 6,
     "metadata": {},
     "output_type": "execute_result"
    }
   ],
   "source": [
    "# Classificação dos clientes\n",
    "def classificar_cliente(row):\n",
    "    pontos = 0\n",
    "    if row['frequencia'] == 'Semanal':\n",
    "        pontos += 1\n",
    "    elif row['frequencia'] == 'Quinzenal':\n",
    "        pontos += 0.5\n",
    "    elif row['frequencia'] == 'Mensal':\n",
    "        pontos += 0.25\n",
    "    \n",
    "    if row['pão_comprados'] > 5:\n",
    "        pontos += 1\n",
    "    elif 3 <= row['pão_comprados'] <= 5:\n",
    "        pontos += 0.5\n",
    "    elif row['pão_comprados'] < 3:\n",
    "        pontos += 0.25\n",
    "    \n",
    "    if row['valor_da_ultima_compra'] > 20:\n",
    "        pontos += 1\n",
    "    elif 10 <= row['valor_da_ultima_compra'] <= 20:\n",
    "        pontos += 0.5\n",
    "    elif row['valor_da_ultima_compra'] < 10:\n",
    "        pontos += 0.25\n",
    "    \n",
    "    if row['trabalha'] == 'Sim':\n",
    "        pontos += 1\n",
    "    elif row['trabalha'] == 'Não':\n",
    "        pontos += 0.5\n",
    "    \n",
    "    #pontos += row['interação_social']\n",
    "    \n",
    "    if row['faltas'] == 0:\n",
    "        pontos += 1\n",
    "    elif 1 <= row['faltas'] <= 2:\n",
    "        pontos += 0.5\n",
    "    elif row['faltas'] > 2:\n",
    "        pontos -= 0.25\n",
    "    \n",
    "    return pontos\n",
    "\n",
    "dados_pao_copia['pontos'] = dados_pao_copia.apply(classificar_cliente, axis=1)\n",
    "\n",
    "# Seleção dos top 3 clientes\n",
    "top_clientes = dados_pao_copia[['pessoa', 'pontos', 'pão_comprados']].sort_values(by='pontos', ascending=False).head(3)\n",
    "\n",
    "# Calcular os valores mínimos e máximos de compra por dia\n",
    "top_clientes['valor_minimo_dia'] = dados_pao_copia['valor_da_ultima_compra'] * 0.1  # Exemplo: 10% do valor da última compra\n",
    "top_clientes['valor_maximo_dia'] = dados_pao_copia['valor_da_ultima_compra'] * 0.3  # Exemplo: 30% do valor da última compra\n",
    "\n",
    "# Selecionar as colunas necessárias e salvar como CSV\n",
    "resultado = top_clientes[['pessoa', 'pontos', 'valor_minimo_dia', 'valor_maximo_dia']]\n",
    "resultado\n",
    "\n",
    "#resultado.columns = ['Nome da Pessoa', 'Valor da possibilidade de compra por semana', 'Valor Minimo de compra de pão por dia', 'Valor Maximo de compra de pão por dia']\n",
    "#resultado.to_csv(\"Probabilidade_pao.csv\", index=False)"
   ]
  }
 ],
 "metadata": {
  "kaggle": {
   "accelerator": "none",
   "dataSources": [
    {
     "datasetId": 5219122,
     "sourceId": 8701963,
     "sourceType": "datasetVersion"
    }
   ],
   "dockerImageVersionId": 30732,
   "isGpuEnabled": false,
   "isInternetEnabled": false,
   "language": "python",
   "sourceType": "notebook"
  },
  "kernelspec": {
   "display_name": "Python 3",
   "language": "python",
   "name": "python3"
  },
  "language_info": {
   "codemirror_mode": {
    "name": "ipython",
    "version": 3
   },
   "file_extension": ".py",
   "mimetype": "text/x-python",
   "name": "python",
   "nbconvert_exporter": "python",
   "pygments_lexer": "ipython3",
   "version": "3.10.13"
  },
  "papermill": {
   "default_parameters": {},
   "duration": 5.13738,
   "end_time": "2024-06-20T16:21:15.166294",
   "environment_variables": {},
   "exception": null,
   "input_path": "__notebook__.ipynb",
   "output_path": "__notebook__.ipynb",
   "parameters": {},
   "start_time": "2024-06-20T16:21:10.028914",
   "version": "2.5.0"
  }
 },
 "nbformat": 4,
 "nbformat_minor": 5
}
